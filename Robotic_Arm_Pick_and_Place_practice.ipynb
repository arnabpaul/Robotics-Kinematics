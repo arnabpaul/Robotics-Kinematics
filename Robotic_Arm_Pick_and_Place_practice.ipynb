{
 "cells": [
  {
   "cell_type": "code",
   "execution_count": 3,
   "metadata": {},
   "outputs": [],
   "source": [
    "x,y,z=3,2,4\n"
   ]
  },
  {
   "cell_type": "code",
   "execution_count": 5,
   "metadata": {},
   "outputs": [
    {
     "data": {
      "text/plain": [
       "3"
      ]
     },
     "execution_count": 5,
     "metadata": {},
     "output_type": "execute_result"
    }
   ],
   "source": [
    "x"
   ]
  },
  {
   "cell_type": "code",
   "execution_count": 6,
   "metadata": {},
   "outputs": [
    {
     "data": {
      "text/plain": [
       "2"
      ]
     },
     "execution_count": 6,
     "metadata": {},
     "output_type": "execute_result"
    }
   ],
   "source": [
    "y"
   ]
  },
  {
   "cell_type": "markdown",
   "metadata": {},
   "source": [
    "Homogeneous transformation"
   ]
  },
  {
   "cell_type": "code",
   "execution_count": 8,
   "metadata": {},
   "outputs": [
    {
     "ename": "SyntaxError",
     "evalue": "invalid syntax (<ipython-input-8-38b38489ae6f>, line 20)",
     "output_type": "error",
     "traceback": [
      "\u001b[1;36m  File \u001b[1;32m\"<ipython-input-8-38b38489ae6f>\"\u001b[1;36m, line \u001b[1;32m20\u001b[0m\n\u001b[1;33m    R_y=Matrix[[cos(q1) 0 sin(q1)],[0 1 0],[-sin(q1) 0 cos(q1)]]\u001b[0m\n\u001b[1;37m                        ^\u001b[0m\n\u001b[1;31mSyntaxError\u001b[0m\u001b[1;31m:\u001b[0m invalid syntax\n"
     ]
    }
   ],
   "source": [
    "#!usr/bin/env python\n",
    "\n",
    "from sympy import symbols, cos, sin, pi, simplify, sqrt, atan2\n",
    "from sympy.matrices import Matrix\n",
    "\n",
    "###############################################################\n",
    "# Problem Statement:\n",
    "  # Let P be a vector expressed in frame {B} with (x,y,z)\n",
    "  # coordinates = (15.0, 0.0, 42.0)\n",
    "  # Rotate P about the Y-axis by angle = 110 degrees. \n",
    "  # Then translate the vector 1 unit\n",
    "  # in the X-axis and 30 units in the Z-axis. \n",
    "  # Print the new (x, y, z) coordinates of P after the transformation.  \n",
    "###############################################################\n",
    "#### Create symbols for joint variables\n",
    "q1 = symbols('q1')\n",
    "gamma  = symbols('gamma')\n",
    "##Rotation matrix\n",
    "dtr=pi/180\n",
    "R_y=Matrix[[cos(q1) 0 sin(q1)],[0 1 0],[-sin(q1) 0 cos(q1)]]\n",
    "R_y.evalf(subs={q1: 110*dtr})\n",
    "##Translation matrix\n",
    "tx=2\n",
    "ty=0\n",
    "tz=30\n",
    "t=Matrix[tx, ty, tz]\n",
    "##Given co-ordinates\n",
    "x,y,z=15.0, 0.0, 42.0\n",
    "#### TO DO ####\n",
    "# Replace P and T with appropriate expressions and calculate new coordinates of P in {A}. \n",
    "P = Matrix[x,y,z,1]     # P should be a 4x1 Matrix\n",
    "T = Matrix[R_y t, 0 0 0 1]     # T Should be a 4x4 homogeneous Transform\n",
    "P_new = T*P # \n"
   ]
  },
  {
   "cell_type": "code",
   "execution_count": null,
   "metadata": {},
   "outputs": [],
   "source": []
  }
 ],
 "metadata": {
  "kernelspec": {
   "display_name": "Python [conda env:RoboND]",
   "language": "python",
   "name": "conda-env-RoboND-py"
  },
  "language_info": {
   "codemirror_mode": {
    "name": "ipython",
    "version": 3
   },
   "file_extension": ".py",
   "mimetype": "text/x-python",
   "name": "python",
   "nbconvert_exporter": "python",
   "pygments_lexer": "ipython3",
   "version": "3.5.2"
  },
  "widgets": {
   "state": {},
   "version": "1.1.2"
  }
 },
 "nbformat": 4,
 "nbformat_minor": 2
}
